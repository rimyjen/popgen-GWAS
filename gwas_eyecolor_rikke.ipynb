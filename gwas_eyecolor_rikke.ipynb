{
 "cells": [
  {
   "cell_type": "markdown",
   "id": "baking-accuracy",
   "metadata": {},
   "source": [
    "# Source code"
   ]
  },
  {
   "cell_type": "code",
   "execution_count": 53,
   "id": "pressing-blake",
   "metadata": {},
   "outputs": [],
   "source": [
    "library(dplyr)\n",
    "library(ggplot2)\n",
    "library(tidyselect)"
   ]
  },
  {
   "cell_type": "markdown",
   "id": "documentary-category",
   "metadata": {},
   "source": [
    "## 1. Quality Control"
   ]
  },
  {
   "cell_type": "markdown",
   "id": "continuous-truth",
   "metadata": {},
   "source": [
    "## Sample QC"
   ]
  },
  {
   "cell_type": "markdown",
   "id": "material-sunrise",
   "metadata": {},
   "source": [
    "### Identification of individuals with elevated missing data rates or outlying heterozygosity rates"
   ]
  },
  {
   "cell_type": "markdown",
   "id": "foreign-country",
   "metadata": {},
   "source": [
    "Bash commands:   \n",
    "`plink --bfile eye_color --missing --allow-no-sex --out eye_color_QC`\n",
    "\n",
    "`plink --bfile eye_color --het --allow-no-sex --out eye_color_QC`"
   ]
  },
  {
   "cell_type": "code",
   "execution_count": 4,
   "id": "similar-commerce",
   "metadata": {},
   "outputs": [
    {
     "name": "stderr",
     "output_type": "stream",
     "text": [
      "Joining, by = c(\"FID\", \"IID\")\n",
      "\n"
     ]
    },
    {
     "data": {
      "text/html": [
       "<table class=\"dataframe\">\n",
       "<caption>A data.frame: 6 × 11</caption>\n",
       "<thead>\n",
       "\t<tr><th></th><th scope=col>FID</th><th scope=col>IID</th><th scope=col>MISS_PHENO</th><th scope=col>N_MISS</th><th scope=col>N_GENO</th><th scope=col>F_MISS</th><th scope=col>O.HOM.</th><th scope=col>E.HOM.</th><th scope=col>N.NM.</th><th scope=col>F</th><th scope=col>het_rate</th></tr>\n",
       "\t<tr><th></th><th scope=col>&lt;int&gt;</th><th scope=col>&lt;int&gt;</th><th scope=col>&lt;chr&gt;</th><th scope=col>&lt;int&gt;</th><th scope=col>&lt;int&gt;</th><th scope=col>&lt;dbl&gt;</th><th scope=col>&lt;int&gt;</th><th scope=col>&lt;dbl&gt;</th><th scope=col>&lt;int&gt;</th><th scope=col>&lt;dbl&gt;</th><th scope=col>&lt;dbl&gt;</th></tr>\n",
       "</thead>\n",
       "<tbody>\n",
       "\t<tr><th scope=row>1</th><td>1010</td><td>1010</td><td>Y</td><td>417559</td><td>958847</td><td>0.435500</td><td>355012</td><td>353100</td><td>522943</td><td>0.011510</td><td>0.3211268</td></tr>\n",
       "\t<tr><th scope=row>2</th><td>1013</td><td>1013</td><td>Y</td><td>  1589</td><td>958847</td><td>0.001657</td><td>622171</td><td>618900</td><td>897402</td><td>0.011880</td><td>0.3066976</td></tr>\n",
       "\t<tr><th scope=row>3</th><td>1020</td><td>1020</td><td>Y</td><td>  3555</td><td>958847</td><td>0.003708</td><td>620700</td><td>617700</td><td>895619</td><td>0.010850</td><td>0.3069598</td></tr>\n",
       "\t<tr><th scope=row>4</th><td>1022</td><td>1022</td><td>Y</td><td> 23735</td><td>958847</td><td>0.024750</td><td>609152</td><td>605200</td><td>877300</td><td>0.014590</td><td>0.3056514</td></tr>\n",
       "\t<tr><th scope=row>5</th><td>1024</td><td>1024</td><td>Y</td><td> 23896</td><td>958847</td><td>0.024920</td><td>606768</td><td>605000</td><td>876929</td><td>0.006683</td><td>0.3080763</td></tr>\n",
       "\t<tr><th scope=row>6</th><td>1026</td><td>1026</td><td>Y</td><td> 23264</td><td>958847</td><td>0.024260</td><td>611711</td><td>605300</td><td>877569</td><td>0.023400</td><td>0.3029483</td></tr>\n",
       "</tbody>\n",
       "</table>\n"
      ],
      "text/latex": [
       "A data.frame: 6 × 11\n",
       "\\begin{tabular}{r|lllllllllll}\n",
       "  & FID & IID & MISS\\_PHENO & N\\_MISS & N\\_GENO & F\\_MISS & O.HOM. & E.HOM. & N.NM. & F & het\\_rate\\\\\n",
       "  & <int> & <int> & <chr> & <int> & <int> & <dbl> & <int> & <dbl> & <int> & <dbl> & <dbl>\\\\\n",
       "\\hline\n",
       "\t1 & 1010 & 1010 & Y & 417559 & 958847 & 0.435500 & 355012 & 353100 & 522943 & 0.011510 & 0.3211268\\\\\n",
       "\t2 & 1013 & 1013 & Y &   1589 & 958847 & 0.001657 & 622171 & 618900 & 897402 & 0.011880 & 0.3066976\\\\\n",
       "\t3 & 1020 & 1020 & Y &   3555 & 958847 & 0.003708 & 620700 & 617700 & 895619 & 0.010850 & 0.3069598\\\\\n",
       "\t4 & 1022 & 1022 & Y &  23735 & 958847 & 0.024750 & 609152 & 605200 & 877300 & 0.014590 & 0.3056514\\\\\n",
       "\t5 & 1024 & 1024 & Y &  23896 & 958847 & 0.024920 & 606768 & 605000 & 876929 & 0.006683 & 0.3080763\\\\\n",
       "\t6 & 1026 & 1026 & Y &  23264 & 958847 & 0.024260 & 611711 & 605300 & 877569 & 0.023400 & 0.3029483\\\\\n",
       "\\end{tabular}\n"
      ],
      "text/markdown": [
       "\n",
       "A data.frame: 6 × 11\n",
       "\n",
       "| <!--/--> | FID &lt;int&gt; | IID &lt;int&gt; | MISS_PHENO &lt;chr&gt; | N_MISS &lt;int&gt; | N_GENO &lt;int&gt; | F_MISS &lt;dbl&gt; | O.HOM. &lt;int&gt; | E.HOM. &lt;dbl&gt; | N.NM. &lt;int&gt; | F &lt;dbl&gt; | het_rate &lt;dbl&gt; |\n",
       "|---|---|---|---|---|---|---|---|---|---|---|---|\n",
       "| 1 | 1010 | 1010 | Y | 417559 | 958847 | 0.435500 | 355012 | 353100 | 522943 | 0.011510 | 0.3211268 |\n",
       "| 2 | 1013 | 1013 | Y |   1589 | 958847 | 0.001657 | 622171 | 618900 | 897402 | 0.011880 | 0.3066976 |\n",
       "| 3 | 1020 | 1020 | Y |   3555 | 958847 | 0.003708 | 620700 | 617700 | 895619 | 0.010850 | 0.3069598 |\n",
       "| 4 | 1022 | 1022 | Y |  23735 | 958847 | 0.024750 | 609152 | 605200 | 877300 | 0.014590 | 0.3056514 |\n",
       "| 5 | 1024 | 1024 | Y |  23896 | 958847 | 0.024920 | 606768 | 605000 | 876929 | 0.006683 | 0.3080763 |\n",
       "| 6 | 1026 | 1026 | Y |  23264 | 958847 | 0.024260 | 611711 | 605300 | 877569 | 0.023400 | 0.3029483 |\n",
       "\n"
      ],
      "text/plain": [
       "  FID  IID  MISS_PHENO N_MISS N_GENO F_MISS   O.HOM. E.HOM. N.NM.  F       \n",
       "1 1010 1010 Y          417559 958847 0.435500 355012 353100 522943 0.011510\n",
       "2 1013 1013 Y            1589 958847 0.001657 622171 618900 897402 0.011880\n",
       "3 1020 1020 Y            3555 958847 0.003708 620700 617700 895619 0.010850\n",
       "4 1022 1022 Y           23735 958847 0.024750 609152 605200 877300 0.014590\n",
       "5 1024 1024 Y           23896 958847 0.024920 606768 605000 876929 0.006683\n",
       "6 1026 1026 Y           23264 958847 0.024260 611711 605300 877569 0.023400\n",
       "  het_rate \n",
       "1 0.3211268\n",
       "2 0.3066976\n",
       "3 0.3069598\n",
       "4 0.3056514\n",
       "5 0.3080763\n",
       "6 0.3029483"
      ]
     },
     "metadata": {},
     "output_type": "display_data"
    }
   ],
   "source": [
    "#missing data\n",
    "d_miss <- read.table(\"eye_color_QC.imiss\",header=T)\n",
    "\n",
    "#heterozygosity\n",
    "d_het <- read.table(\"eye_color_QC.het\",header=T)\n",
    "\n",
    "#join the two tables\n",
    "d <- inner_join(d_miss,d_het)\n",
    "\n",
    "#calculate the observed heterozygosity rate per individual\n",
    "d <- d %>% mutate(het_rate = (N.NM.-O.HOM.)/N.NM.)\n",
    "#N.NM is the number of non-missing genotypes pr individual and O.HOM is the observed number of homozygous genotypes.\n",
    "\n",
    "head(d)"
   ]
  },
  {
   "cell_type": "code",
   "execution_count": 5,
   "id": "wound-frontier",
   "metadata": {},
   "outputs": [
    {
     "data": {
      "image/png": "[encoded data removed]",
      "text/plain": [
       "plot without title"
      ]
     },
     "metadata": {
      "image/png": {
       "height": 420,
       "width": 420
      }
     },
     "output_type": "display_data"
    }
   ],
   "source": [
    "#plotting the observed heterozygosity rate against the proportion of missing SNPs\n",
    "mean_heterozygosiy  <- mean(d$het_rate)\n",
    "sd_heterozygosity  <- sd(d$het_rate)\n",
    "\n",
    "d  %>% mutate(bounds = abs(het_rate-mean_heterozygosiy) < 3*sd_heterozygosity) %>% \n",
    "ggplot()+\n",
    "geom_point(aes(x = het_rate,y = F_MISS, color = bounds)) +\n",
    "geom_vline(xintercept = mean_heterozygosiy, color =\"black\") +\n",
    "geom_vline(xintercept = mean_heterozygosiy-3*sd_heterozygosity, color =\"blue\") +\n",
    "geom_vline(xintercept = mean_heterozygosiy+3*sd_heterozygosity, color =\"blue\") +  \n",
    "theme_minimal() + theme(legend.position = \"none\") +\n",
    "xlab(\"Observed heterozygosity rate\") + ylab(\"Proportion of missing SNPs\")"
   ]
  },
  {
   "cell_type": "code",
   "execution_count": 6,
   "id": "excellent-document",
   "metadata": {},
   "outputs": [
    {
     "data": {
      "text/html": [
       "<table class=\"dataframe\">\n",
       "<caption>A data.frame: 13 × 11</caption>\n",
       "<thead>\n",
       "\t<tr><th scope=col>FID</th><th scope=col>IID</th><th scope=col>MISS_PHENO</th><th scope=col>N_MISS</th><th scope=col>N_GENO</th><th scope=col>F_MISS</th><th scope=col>O.HOM.</th><th scope=col>E.HOM.</th><th scope=col>N.NM.</th><th scope=col>F</th><th scope=col>het_rate</th></tr>\n",
       "\t<tr><th scope=col>&lt;int&gt;</th><th scope=col>&lt;int&gt;</th><th scope=col>&lt;chr&gt;</th><th scope=col>&lt;int&gt;</th><th scope=col>&lt;int&gt;</th><th scope=col>&lt;dbl&gt;</th><th scope=col>&lt;int&gt;</th><th scope=col>&lt;dbl&gt;</th><th scope=col>&lt;int&gt;</th><th scope=col>&lt;dbl&gt;</th><th scope=col>&lt;dbl&gt;</th></tr>\n",
       "</thead>\n",
       "<tbody>\n",
       "\t<tr><td>2053</td><td>2053</td><td>Y</td><td>287683</td><td>958847</td><td>0.300000</td><td>481143</td><td>451900</td><td>654052</td><td> 0.14450</td><td>0.2643658</td></tr>\n",
       "\t<tr><td>2887</td><td>2887</td><td>Y</td><td>437005</td><td>958847</td><td>0.455800</td><td>318819</td><td>333900</td><td>495340</td><td>-0.09349</td><td>0.3563633</td></tr>\n",
       "\t<tr><td>2907</td><td>2907</td><td>Y</td><td>437299</td><td>958847</td><td>0.456100</td><td>362792</td><td>333600</td><td>494902</td><td> 0.18080</td><td>0.2669417</td></tr>\n",
       "\t<tr><td>3783</td><td>3783</td><td>Y</td><td>444472</td><td>958847</td><td>0.463500</td><td>311908</td><td>329600</td><td>489119</td><td>-0.11110</td><td>0.3623065</td></tr>\n",
       "\t<tr><td>4006</td><td>4006</td><td>Y</td><td>435150</td><td>958847</td><td>0.453800</td><td>320729</td><td>334900</td><td>496740</td><td>-0.08743</td><td>0.3543322</td></tr>\n",
       "\t<tr><td>  44</td><td>  44</td><td>Y</td><td>  2768</td><td>958847</td><td>0.002887</td><td>651807</td><td>618700</td><td>897111</td><td> 0.11900</td><td>0.2734377</td></tr>\n",
       "\t<tr><td> 483</td><td> 483</td><td>Y</td><td>  4333</td><td>958847</td><td>0.004519</td><td>664180</td><td>617600</td><td>895527</td><td> 0.16770</td><td>0.2583362</td></tr>\n",
       "\t<tr><td>5867</td><td>5867</td><td>Y</td><td>303054</td><td>958847</td><td>0.316100</td><td>402855</td><td>431800</td><td>624571</td><td>-0.15020</td><td>0.3549893</td></tr>\n",
       "\t<tr><td>5989</td><td>5989</td><td>Y</td><td>435297</td><td>958847</td><td>0.454000</td><td>319130</td><td>334900</td><td>496846</td><td>-0.09762</td><td>0.3576883</td></tr>\n",
       "\t<tr><td>6065</td><td>6065</td><td>Y</td><td>434972</td><td>958847</td><td>0.453600</td><td>322151</td><td>335000</td><td>496976</td><td>-0.07946</td><td>0.3517776</td></tr>\n",
       "\t<tr><td>8379</td><td>8379</td><td>Y</td><td>492020</td><td>958847</td><td>0.513100</td><td>283012</td><td>294200</td><td>448541</td><td>-0.07246</td><td>0.3690387</td></tr>\n",
       "\t<tr><td>8720</td><td>8720</td><td>Y</td><td>491689</td><td>958847</td><td>0.512800</td><td>278287</td><td>294400</td><td>448825</td><td>-0.10420</td><td>0.3799655</td></tr>\n",
       "\t<tr><td>8990</td><td>8990</td><td>Y</td><td>492286</td><td>958847</td><td>0.513400</td><td>278087</td><td>294000</td><td>448229</td><td>-0.10310</td><td>0.3795872</td></tr>\n",
       "</tbody>\n",
       "</table>\n"
      ],
      "text/latex": [
       "A data.frame: 13 × 11\n",
       "\\begin{tabular}{lllllllllll}\n",
       " FID & IID & MISS\\_PHENO & N\\_MISS & N\\_GENO & F\\_MISS & O.HOM. & E.HOM. & N.NM. & F & het\\_rate\\\\\n",
       " <int> & <int> & <chr> & <int> & <int> & <dbl> & <int> & <dbl> & <int> & <dbl> & <dbl>\\\\\n",
       "\\hline\n",
       "\t 2053 & 2053 & Y & 287683 & 958847 & 0.300000 & 481143 & 451900 & 654052 &  0.14450 & 0.2643658\\\\\n",
       "\t 2887 & 2887 & Y & 437005 & 958847 & 0.455800 & 318819 & 333900 & 495340 & -0.09349 & 0.3563633\\\\\n",
       "\t 2907 & 2907 & Y & 437299 & 958847 & 0.456100 & 362792 & 333600 & 494902 &  0.18080 & 0.2669417\\\\\n",
       "\t 3783 & 3783 & Y & 444472 & 958847 & 0.463500 & 311908 & 329600 & 489119 & -0.11110 & 0.3623065\\\\\n",
       "\t 4006 & 4006 & Y & 435150 & 958847 & 0.453800 & 320729 & 334900 & 496740 & -0.08743 & 0.3543322\\\\\n",
       "\t   44 &   44 & Y &   2768 & 958847 & 0.002887 & 651807 & 618700 & 897111 &  0.11900 & 0.2734377\\\\\n",
       "\t  483 &  483 & Y &   4333 & 958847 & 0.004519 & 664180 & 617600 & 895527 &  0.16770 & 0.2583362\\\\\n",
       "\t 5867 & 5867 & Y & 303054 & 958847 & 0.316100 & 402855 & 431800 & 624571 & -0.15020 & 0.3549893\\\\\n",
       "\t 5989 & 5989 & Y & 435297 & 958847 & 0.454000 & 319130 & 334900 & 496846 & -0.09762 & 0.3576883\\\\\n",
       "\t 6065 & 6065 & Y & 434972 & 958847 & 0.453600 & 322151 & 335000 & 496976 & -0.07946 & 0.3517776\\\\\n",
       "\t 8379 & 8379 & Y & 492020 & 958847 & 0.513100 & 283012 & 294200 & 448541 & -0.07246 & 0.3690387\\\\\n",
       "\t 8720 & 8720 & Y & 491689 & 958847 & 0.512800 & 278287 & 294400 & 448825 & -0.10420 & 0.3799655\\\\\n",
       "\t 8990 & 8990 & Y & 492286 & 958847 & 0.513400 & 278087 & 294000 & 448229 & -0.10310 & 0.3795872\\\\\n",
       "\\end{tabular}\n"
      ],
      "text/markdown": [
       "\n",
       "A data.frame: 13 × 11\n",
       "\n",
       "| FID &lt;int&gt; | IID &lt;int&gt; | MISS_PHENO &lt;chr&gt; | N_MISS &lt;int&gt; | N_GENO &lt;int&gt; | F_MISS &lt;dbl&gt; | O.HOM. &lt;int&gt; | E.HOM. &lt;dbl&gt; | N.NM. &lt;int&gt; | F &lt;dbl&gt; | het_rate &lt;dbl&gt; |\n",
       "|---|---|---|---|---|---|---|---|---|---|---|\n",
       "| 2053 | 2053 | Y | 287683 | 958847 | 0.300000 | 481143 | 451900 | 654052 |  0.14450 | 0.2643658 |\n",
       "| 2887 | 2887 | Y | 437005 | 958847 | 0.455800 | 318819 | 333900 | 495340 | -0.09349 | 0.3563633 |\n",
       "| 2907 | 2907 | Y | 437299 | 958847 | 0.456100 | 362792 | 333600 | 494902 |  0.18080 | 0.2669417 |\n",
       "| 3783 | 3783 | Y | 444472 | 958847 | 0.463500 | 311908 | 329600 | 489119 | -0.11110 | 0.3623065 |\n",
       "| 4006 | 4006 | Y | 435150 | 958847 | 0.453800 | 320729 | 334900 | 496740 | -0.08743 | 0.3543322 |\n",
       "|   44 |   44 | Y |   2768 | 958847 | 0.002887 | 651807 | 618700 | 897111 |  0.11900 | 0.2734377 |\n",
       "|  483 |  483 | Y |   4333 | 958847 | 0.004519 | 664180 | 617600 | 895527 |  0.16770 | 0.2583362 |\n",
       "| 5867 | 5867 | Y | 303054 | 958847 | 0.316100 | 402855 | 431800 | 624571 | -0.15020 | 0.3549893 |\n",
       "| 5989 | 5989 | Y | 435297 | 958847 | 0.454000 | 319130 | 334900 | 496846 | -0.09762 | 0.3576883 |\n",
       "| 6065 | 6065 | Y | 434972 | 958847 | 0.453600 | 322151 | 335000 | 496976 | -0.07946 | 0.3517776 |\n",
       "| 8379 | 8379 | Y | 492020 | 958847 | 0.513100 | 283012 | 294200 | 448541 | -0.07246 | 0.3690387 |\n",
       "| 8720 | 8720 | Y | 491689 | 958847 | 0.512800 | 278287 | 294400 | 448825 | -0.10420 | 0.3799655 |\n",
       "| 8990 | 8990 | Y | 492286 | 958847 | 0.513400 | 278087 | 294000 | 448229 | -0.10310 | 0.3795872 |\n",
       "\n"
      ],
      "text/plain": [
       "   FID  IID  MISS_PHENO N_MISS N_GENO F_MISS   O.HOM. E.HOM. N.NM.  F       \n",
       "1  2053 2053 Y          287683 958847 0.300000 481143 451900 654052  0.14450\n",
       "2  2887 2887 Y          437005 958847 0.455800 318819 333900 495340 -0.09349\n",
       "3  2907 2907 Y          437299 958847 0.456100 362792 333600 494902  0.18080\n",
       "4  3783 3783 Y          444472 958847 0.463500 311908 329600 489119 -0.11110\n",
       "5  4006 4006 Y          435150 958847 0.453800 320729 334900 496740 -0.08743\n",
       "6    44   44 Y            2768 958847 0.002887 651807 618700 897111  0.11900\n",
       "7   483  483 Y            4333 958847 0.004519 664180 617600 895527  0.16770\n",
       "8  5867 5867 Y          303054 958847 0.316100 402855 431800 624571 -0.15020\n",
       "9  5989 5989 Y          435297 958847 0.454000 319130 334900 496846 -0.09762\n",
       "10 6065 6065 Y          434972 958847 0.453600 322151 335000 496976 -0.07946\n",
       "11 8379 8379 Y          492020 958847 0.513100 283012 294200 448541 -0.07246\n",
       "12 8720 8720 Y          491689 958847 0.512800 278287 294400 448825 -0.10420\n",
       "13 8990 8990 Y          492286 958847 0.513400 278087 294000 448229 -0.10310\n",
       "   het_rate \n",
       "1  0.2643658\n",
       "2  0.3563633\n",
       "3  0.2669417\n",
       "4  0.3623065\n",
       "5  0.3543322\n",
       "6  0.2734377\n",
       "7  0.2583362\n",
       "8  0.3549893\n",
       "9  0.3576883\n",
       "10 0.3517776\n",
       "11 0.3690387\n",
       "12 0.3799655\n",
       "13 0.3795872"
      ]
     },
     "metadata": {},
     "output_type": "display_data"
    }
   ],
   "source": [
    "#write out the individuals that should be removed due to outlying heterozygosity rates\n",
    "tofilter <- d %>% \n",
    "    filter(abs(het_rate-mean_heterozygosiy) > 3*sd_heterozygosity)\n",
    "tofilter\n",
    "\n",
    "tofilter %>% \n",
    "    select(FID, IID) %>% \n",
    "    write.table(file = \"wrong_het_missing_values.txt\", sep = \"\\t\", row.names = FALSE, col.names = FALSE)"
   ]
  },
  {
   "cell_type": "markdown",
   "id": "christian-advancement",
   "metadata": {},
   "source": [
    "Bash commands:  \n",
    "`plink --bfile eye_color --allow-no-sex --remove wrong_het_missing_values.txt \"--make-bed\" --out eye_color_QC`"
   ]
  },
  {
   "cell_type": "markdown",
   "id": "final-measurement",
   "metadata": {},
   "source": [
    "### Identification of related individuals\n",
    "Bash commands:  \n",
    "`plink --bfile eye_color_QC --allow-no-sex --indep-pairwise 500kb 5 0.2 --out eye_color_QC`  \n",
    "`plink --bfile eye_color_QC --allow-no-sex --extract eye_color_QC.prune.in --genome --min 0.185 --out eye_color_QC`  \n"
   ]
  },
  {
   "cell_type": "code",
   "execution_count": 7,
   "id": "express-prescription",
   "metadata": {},
   "outputs": [
    {
     "data": {
      "text/html": [
       "<table class=\"dataframe\">\n",
       "<caption>A data.frame: 15 × 14</caption>\n",
       "<thead>\n",
       "\t<tr><th scope=col>FID1</th><th scope=col>IID1</th><th scope=col>FID2</th><th scope=col>IID2</th><th scope=col>RT</th><th scope=col>EZ</th><th scope=col>Z0</th><th scope=col>Z1</th><th scope=col>Z2</th><th scope=col>PI_HAT</th><th scope=col>PHE</th><th scope=col>DST</th><th scope=col>PPC</th><th scope=col>RATIO</th></tr>\n",
       "\t<tr><th scope=col>&lt;int&gt;</th><th scope=col>&lt;int&gt;</th><th scope=col>&lt;int&gt;</th><th scope=col>&lt;int&gt;</th><th scope=col>&lt;chr&gt;</th><th scope=col>&lt;lgl&gt;</th><th scope=col>&lt;dbl&gt;</th><th scope=col>&lt;dbl&gt;</th><th scope=col>&lt;dbl&gt;</th><th scope=col>&lt;dbl&gt;</th><th scope=col>&lt;int&gt;</th><th scope=col>&lt;dbl&gt;</th><th scope=col>&lt;dbl&gt;</th><th scope=col>&lt;dbl&gt;</th></tr>\n",
       "</thead>\n",
       "<tbody>\n",
       "\t<tr><td>1173</td><td>1173</td><td>4814</td><td>4814</td><td>UN</td><td>NA</td><td>0.0000</td><td>0.0000</td><td>1.0000</td><td>1.0000</td><td>-1</td><td>1.000000</td><td>1</td><td>       NA</td></tr>\n",
       "\t<tr><td>1269</td><td>1269</td><td>1275</td><td>1275</td><td>UN</td><td>NA</td><td>0.0016</td><td>0.9596</td><td>0.0388</td><td>0.5186</td><td>-1</td><td>0.873349</td><td>1</td><td>1843.5000</td></tr>\n",
       "\t<tr><td>1424</td><td>1424</td><td>6035</td><td>6035</td><td>UN</td><td>NA</td><td>0.0000</td><td>0.0000</td><td>1.0000</td><td>1.0000</td><td>-1</td><td>1.000000</td><td>1</td><td>       NA</td></tr>\n",
       "\t<tr><td>1775</td><td>1775</td><td>2083</td><td>2083</td><td>UN</td><td>NA</td><td>0.0000</td><td>0.0000</td><td>1.0000</td><td>1.0000</td><td>-1</td><td>1.000000</td><td>1</td><td>       NA</td></tr>\n",
       "\t<tr><td>2651</td><td>2651</td><td> 912</td><td> 912</td><td>UN</td><td>NA</td><td>0.0019</td><td>0.9757</td><td>0.0225</td><td>0.5103</td><td>-1</td><td>0.871179</td><td>1</td><td>1147.6667</td></tr>\n",
       "\t<tr><td>3998</td><td>3998</td><td>6191</td><td>6191</td><td>UN</td><td>NA</td><td>0.0000</td><td>0.0000</td><td>1.0000</td><td>1.0000</td><td>-1</td><td>1.000000</td><td>1</td><td>       NA</td></tr>\n",
       "\t<tr><td>4460</td><td>4460</td><td>5895</td><td>5895</td><td>UN</td><td>NA</td><td>0.0000</td><td>0.0000</td><td>1.0000</td><td>1.0000</td><td>-1</td><td>1.000000</td><td>1</td><td>       NA</td></tr>\n",
       "\t<tr><td>4547</td><td>4547</td><td>4632</td><td>4632</td><td>UN</td><td>NA</td><td>0.5345</td><td>0.4655</td><td>0.0000</td><td>0.2327</td><td>-1</td><td>0.804813</td><td>1</td><td>   4.2488</td></tr>\n",
       "\t<tr><td>4583</td><td>4583</td><td>4584</td><td>4584</td><td>UN</td><td>NA</td><td>0.2415</td><td>0.5295</td><td>0.2290</td><td>0.4938</td><td>-1</td><td>0.879323</td><td>1</td><td>  10.9805</td></tr>\n",
       "\t<tr><td>4583</td><td>4583</td><td>4585</td><td>4585</td><td>UN</td><td>NA</td><td>0.4231</td><td>0.5769</td><td>0.0000</td><td>0.2885</td><td>-1</td><td>0.825543</td><td>1</td><td>   5.6077</td></tr>\n",
       "\t<tr><td>4584</td><td>4584</td><td>4585</td><td>4585</td><td>UN</td><td>NA</td><td>0.4168</td><td>0.5832</td><td>0.0000</td><td>0.2916</td><td>-1</td><td>0.828596</td><td>1</td><td>   6.2465</td></tr>\n",
       "\t<tr><td>5792</td><td>5792</td><td>9107</td><td>9107</td><td>UN</td><td>NA</td><td>0.0000</td><td>0.0000</td><td>1.0000</td><td>1.0000</td><td>-1</td><td>1.000000</td><td>1</td><td>       NA</td></tr>\n",
       "\t<tr><td> 651</td><td> 651</td><td> 903</td><td> 903</td><td>UN</td><td>NA</td><td>0.0020</td><td>0.9725</td><td>0.0255</td><td>0.5118</td><td>-1</td><td>0.871572</td><td>1</td><td>1825.0000</td></tr>\n",
       "\t<tr><td>8915</td><td>8915</td><td>9486</td><td>9486</td><td>UN</td><td>NA</td><td>0.0000</td><td>0.0000</td><td>1.0000</td><td>1.0000</td><td>-1</td><td>1.000000</td><td>1</td><td>       NA</td></tr>\n",
       "\t<tr><td>9277</td><td>9277</td><td>9283</td><td>9283</td><td>UN</td><td>NA</td><td>0.5506</td><td>0.4494</td><td>0.0000</td><td>0.2247</td><td>-1</td><td>0.790850</td><td>1</td><td>   4.7884</td></tr>\n",
       "</tbody>\n",
       "</table>\n"
      ],
      "text/latex": [
       "A data.frame: 15 × 14\n",
       "\\begin{tabular}{llllllllllllll}\n",
       " FID1 & IID1 & FID2 & IID2 & RT & EZ & Z0 & Z1 & Z2 & PI\\_HAT & PHE & DST & PPC & RATIO\\\\\n",
       " <int> & <int> & <int> & <int> & <chr> & <lgl> & <dbl> & <dbl> & <dbl> & <dbl> & <int> & <dbl> & <dbl> & <dbl>\\\\\n",
       "\\hline\n",
       "\t 1173 & 1173 & 4814 & 4814 & UN & NA & 0.0000 & 0.0000 & 1.0000 & 1.0000 & -1 & 1.000000 & 1 &        NA\\\\\n",
       "\t 1269 & 1269 & 1275 & 1275 & UN & NA & 0.0016 & 0.9596 & 0.0388 & 0.5186 & -1 & 0.873349 & 1 & 1843.5000\\\\\n",
       "\t 1424 & 1424 & 6035 & 6035 & UN & NA & 0.0000 & 0.0000 & 1.0000 & 1.0000 & -1 & 1.000000 & 1 &        NA\\\\\n",
       "\t 1775 & 1775 & 2083 & 2083 & UN & NA & 0.0000 & 0.0000 & 1.0000 & 1.0000 & -1 & 1.000000 & 1 &        NA\\\\\n",
       "\t 2651 & 2651 &  912 &  912 & UN & NA & 0.0019 & 0.9757 & 0.0225 & 0.5103 & -1 & 0.871179 & 1 & 1147.6667\\\\\n",
       "\t 3998 & 3998 & 6191 & 6191 & UN & NA & 0.0000 & 0.0000 & 1.0000 & 1.0000 & -1 & 1.000000 & 1 &        NA\\\\\n",
       "\t 4460 & 4460 & 5895 & 5895 & UN & NA & 0.0000 & 0.0000 & 1.0000 & 1.0000 & -1 & 1.000000 & 1 &        NA\\\\\n",
       "\t 4547 & 4547 & 4632 & 4632 & UN & NA & 0.5345 & 0.4655 & 0.0000 & 0.2327 & -1 & 0.804813 & 1 &    4.2488\\\\\n",
       "\t 4583 & 4583 & 4584 & 4584 & UN & NA & 0.2415 & 0.5295 & 0.2290 & 0.4938 & -1 & 0.879323 & 1 &   10.9805\\\\\n",
       "\t 4583 & 4583 & 4585 & 4585 & UN & NA & 0.4231 & 0.5769 & 0.0000 & 0.2885 & -1 & 0.825543 & 1 &    5.6077\\\\\n",
       "\t 4584 & 4584 & 4585 & 4585 & UN & NA & 0.4168 & 0.5832 & 0.0000 & 0.2916 & -1 & 0.828596 & 1 &    6.2465\\\\\n",
       "\t 5792 & 5792 & 9107 & 9107 & UN & NA & 0.0000 & 0.0000 & 1.0000 & 1.0000 & -1 & 1.000000 & 1 &        NA\\\\\n",
       "\t  651 &  651 &  903 &  903 & UN & NA & 0.0020 & 0.9725 & 0.0255 & 0.5118 & -1 & 0.871572 & 1 & 1825.0000\\\\\n",
       "\t 8915 & 8915 & 9486 & 9486 & UN & NA & 0.0000 & 0.0000 & 1.0000 & 1.0000 & -1 & 1.000000 & 1 &        NA\\\\\n",
       "\t 9277 & 9277 & 9283 & 9283 & UN & NA & 0.5506 & 0.4494 & 0.0000 & 0.2247 & -1 & 0.790850 & 1 &    4.7884\\\\\n",
       "\\end{tabular}\n"
      ],
      "text/markdown": [
       "\n",
       "A data.frame: 15 × 14\n",
       "\n",
       "| FID1 &lt;int&gt; | IID1 &lt;int&gt; | FID2 &lt;int&gt; | IID2 &lt;int&gt; | RT &lt;chr&gt; | EZ &lt;lgl&gt; | Z0 &lt;dbl&gt; | Z1 &lt;dbl&gt; | Z2 &lt;dbl&gt; | PI_HAT &lt;dbl&gt; | PHE &lt;int&gt; | DST &lt;dbl&gt; | PPC &lt;dbl&gt; | RATIO &lt;dbl&gt; |\n",
       "|---|---|---|---|---|---|---|---|---|---|---|---|---|---|\n",
       "| 1173 | 1173 | 4814 | 4814 | UN | NA | 0.0000 | 0.0000 | 1.0000 | 1.0000 | -1 | 1.000000 | 1 |        NA |\n",
       "| 1269 | 1269 | 1275 | 1275 | UN | NA | 0.0016 | 0.9596 | 0.0388 | 0.5186 | -1 | 0.873349 | 1 | 1843.5000 |\n",
       "| 1424 | 1424 | 6035 | 6035 | UN | NA | 0.0000 | 0.0000 | 1.0000 | 1.0000 | -1 | 1.000000 | 1 |        NA |\n",
       "| 1775 | 1775 | 2083 | 2083 | UN | NA | 0.0000 | 0.0000 | 1.0000 | 1.0000 | -1 | 1.000000 | 1 |        NA |\n",
       "| 2651 | 2651 |  912 |  912 | UN | NA | 0.0019 | 0.9757 | 0.0225 | 0.5103 | -1 | 0.871179 | 1 | 1147.6667 |\n",
       "| 3998 | 3998 | 6191 | 6191 | UN | NA | 0.0000 | 0.0000 | 1.0000 | 1.0000 | -1 | 1.000000 | 1 |        NA |\n",
       "| 4460 | 4460 | 5895 | 5895 | UN | NA | 0.0000 | 0.0000 | 1.0000 | 1.0000 | -1 | 1.000000 | 1 |        NA |\n",
       "| 4547 | 4547 | 4632 | 4632 | UN | NA | 0.5345 | 0.4655 | 0.0000 | 0.2327 | -1 | 0.804813 | 1 |    4.2488 |\n",
       "| 4583 | 4583 | 4584 | 4584 | UN | NA | 0.2415 | 0.5295 | 0.2290 | 0.4938 | -1 | 0.879323 | 1 |   10.9805 |\n",
       "| 4583 | 4583 | 4585 | 4585 | UN | NA | 0.4231 | 0.5769 | 0.0000 | 0.2885 | -1 | 0.825543 | 1 |    5.6077 |\n",
       "| 4584 | 4584 | 4585 | 4585 | UN | NA | 0.4168 | 0.5832 | 0.0000 | 0.2916 | -1 | 0.828596 | 1 |    6.2465 |\n",
       "| 5792 | 5792 | 9107 | 9107 | UN | NA | 0.0000 | 0.0000 | 1.0000 | 1.0000 | -1 | 1.000000 | 1 |        NA |\n",
       "|  651 |  651 |  903 |  903 | UN | NA | 0.0020 | 0.9725 | 0.0255 | 0.5118 | -1 | 0.871572 | 1 | 1825.0000 |\n",
       "| 8915 | 8915 | 9486 | 9486 | UN | NA | 0.0000 | 0.0000 | 1.0000 | 1.0000 | -1 | 1.000000 | 1 |        NA |\n",
       "| 9277 | 9277 | 9283 | 9283 | UN | NA | 0.5506 | 0.4494 | 0.0000 | 0.2247 | -1 | 0.790850 | 1 |    4.7884 |\n",
       "\n"
      ],
      "text/plain": [
       "   FID1 IID1 FID2 IID2 RT EZ Z0     Z1     Z2     PI_HAT PHE DST      PPC\n",
       "1  1173 1173 4814 4814 UN NA 0.0000 0.0000 1.0000 1.0000 -1  1.000000 1  \n",
       "2  1269 1269 1275 1275 UN NA 0.0016 0.9596 0.0388 0.5186 -1  0.873349 1  \n",
       "3  1424 1424 6035 6035 UN NA 0.0000 0.0000 1.0000 1.0000 -1  1.000000 1  \n",
       "4  1775 1775 2083 2083 UN NA 0.0000 0.0000 1.0000 1.0000 -1  1.000000 1  \n",
       "5  2651 2651  912  912 UN NA 0.0019 0.9757 0.0225 0.5103 -1  0.871179 1  \n",
       "6  3998 3998 6191 6191 UN NA 0.0000 0.0000 1.0000 1.0000 -1  1.000000 1  \n",
       "7  4460 4460 5895 5895 UN NA 0.0000 0.0000 1.0000 1.0000 -1  1.000000 1  \n",
       "8  4547 4547 4632 4632 UN NA 0.5345 0.4655 0.0000 0.2327 -1  0.804813 1  \n",
       "9  4583 4583 4584 4584 UN NA 0.2415 0.5295 0.2290 0.4938 -1  0.879323 1  \n",
       "10 4583 4583 4585 4585 UN NA 0.4231 0.5769 0.0000 0.2885 -1  0.825543 1  \n",
       "11 4584 4584 4585 4585 UN NA 0.4168 0.5832 0.0000 0.2916 -1  0.828596 1  \n",
       "12 5792 5792 9107 9107 UN NA 0.0000 0.0000 1.0000 1.0000 -1  1.000000 1  \n",
       "13  651  651  903  903 UN NA 0.0020 0.9725 0.0255 0.5118 -1  0.871572 1  \n",
       "14 8915 8915 9486 9486 UN NA 0.0000 0.0000 1.0000 1.0000 -1  1.000000 1  \n",
       "15 9277 9277 9283 9283 UN NA 0.5506 0.4494 0.0000 0.2247 -1  0.790850 1  \n",
       "   RATIO    \n",
       "1         NA\n",
       "2  1843.5000\n",
       "3         NA\n",
       "4         NA\n",
       "5  1147.6667\n",
       "6         NA\n",
       "7         NA\n",
       "8     4.2488\n",
       "9    10.9805\n",
       "10    5.6077\n",
       "11    6.2465\n",
       "12        NA\n",
       "13 1825.0000\n",
       "14        NA\n",
       "15    4.7884"
      ]
     },
     "metadata": {},
     "output_type": "display_data"
    },
    {
     "name": "stdout",
     "output_type": "stream",
     "text": [
      "[1] \"removed individuals:\"\n",
      " [1] 1173 1269 1424 1775 2651 3998 4460 4547 4583 4584 5792  651 8915 9277\n"
     ]
    }
   ],
   "source": [
    "ibd <- read.table('eye_color_QC.genome', header = TRUE)\n",
    "ibd\n",
    "members <- ibd$FID1 #we will remove individuals in the first column\n",
    "members <- unique(members)\n",
    "print(\"removed individuals:\")\n",
    "print(members)\n",
    "write.table(cbind(members,members), file = 'wrong_ibd.txt', col.names = F, row.names = F)"
   ]
  },
  {
   "cell_type": "markdown",
   "id": "numerous-startup",
   "metadata": {},
   "source": [
    "Bash commands:  \n",
    "`plink --bfile eye_color_QC --allow-no-sex --remove wrong_ibd.txt --make-bed --out eye_color_QC`"
   ]
  },
  {
   "cell_type": "markdown",
   "id": "proved-denial",
   "metadata": {},
   "source": [
    "## SNP QC"
   ]
  },
  {
   "cell_type": "markdown",
   "id": "timely-special",
   "metadata": {},
   "source": [
    "### Identification of SNPs with excessive missing data rates"
   ]
  },
  {
   "cell_type": "markdown",
   "id": "irish-signal",
   "metadata": {},
   "source": [
    "Bash commands:   \n",
    "`plink --bfile eye_color_QC --missing --allow-no-sex --out eye_color_QC`   \n"
   ]
  },
  {
   "cell_type": "code",
   "execution_count": 8,
   "id": "thermal-diversity",
   "metadata": {},
   "outputs": [
    {
     "data": {
      "text/html": [
       "<table class=\"dataframe\">\n",
       "<caption>A data.frame: 6 × 5</caption>\n",
       "<thead>\n",
       "\t<tr><th></th><th scope=col>CHR</th><th scope=col>SNP</th><th scope=col>N_MISS</th><th scope=col>N_GENO</th><th scope=col>F_MISS</th></tr>\n",
       "\t<tr><th></th><th scope=col>&lt;int&gt;</th><th scope=col>&lt;chr&gt;</th><th scope=col>&lt;int&gt;</th><th scope=col>&lt;int&gt;</th><th scope=col>&lt;dbl&gt;</th></tr>\n",
       "</thead>\n",
       "<tbody>\n",
       "\t<tr><th scope=row>1</th><td>1</td><td>rs4477212 </td><td>618</td><td>1260</td><td>0.49050</td></tr>\n",
       "\t<tr><th scope=row>2</th><td>1</td><td>rs3094315 </td><td>699</td><td>1260</td><td>0.55480</td></tr>\n",
       "\t<tr><th scope=row>3</th><td>1</td><td>rs3131972 </td><td> 41</td><td>1260</td><td>0.03254</td></tr>\n",
       "\t<tr><th scope=row>4</th><td>1</td><td>rs12124819</td><td>272</td><td>1260</td><td>0.21590</td></tr>\n",
       "\t<tr><th scope=row>5</th><td>1</td><td>rs11240777</td><td> 35</td><td>1260</td><td>0.02778</td></tr>\n",
       "\t<tr><th scope=row>6</th><td>1</td><td>rs6681049 </td><td>584</td><td>1260</td><td>0.46350</td></tr>\n",
       "</tbody>\n",
       "</table>\n"
      ],
      "text/latex": [
       "A data.frame: 6 × 5\n",
       "\\begin{tabular}{r|lllll}\n",
       "  & CHR & SNP & N\\_MISS & N\\_GENO & F\\_MISS\\\\\n",
       "  & <int> & <chr> & <int> & <int> & <dbl>\\\\\n",
       "\\hline\n",
       "\t1 & 1 & rs4477212  & 618 & 1260 & 0.49050\\\\\n",
       "\t2 & 1 & rs3094315  & 699 & 1260 & 0.55480\\\\\n",
       "\t3 & 1 & rs3131972  &  41 & 1260 & 0.03254\\\\\n",
       "\t4 & 1 & rs12124819 & 272 & 1260 & 0.21590\\\\\n",
       "\t5 & 1 & rs11240777 &  35 & 1260 & 0.02778\\\\\n",
       "\t6 & 1 & rs6681049  & 584 & 1260 & 0.46350\\\\\n",
       "\\end{tabular}\n"
      ],
      "text/markdown": [
       "\n",
       "A data.frame: 6 × 5\n",
       "\n",
       "| <!--/--> | CHR &lt;int&gt; | SNP &lt;chr&gt; | N_MISS &lt;int&gt; | N_GENO &lt;int&gt; | F_MISS &lt;dbl&gt; |\n",
       "|---|---|---|---|---|---|\n",
       "| 1 | 1 | rs4477212  | 618 | 1260 | 0.49050 |\n",
       "| 2 | 1 | rs3094315  | 699 | 1260 | 0.55480 |\n",
       "| 3 | 1 | rs3131972  |  41 | 1260 | 0.03254 |\n",
       "| 4 | 1 | rs12124819 | 272 | 1260 | 0.21590 |\n",
       "| 5 | 1 | rs11240777 |  35 | 1260 | 0.02778 |\n",
       "| 6 | 1 | rs6681049  | 584 | 1260 | 0.46350 |\n",
       "\n"
      ],
      "text/plain": [
       "  CHR SNP        N_MISS N_GENO F_MISS \n",
       "1 1   rs4477212  618    1260   0.49050\n",
       "2 1   rs3094315  699    1260   0.55480\n",
       "3 1   rs3131972   41    1260   0.03254\n",
       "4 1   rs12124819 272    1260   0.21590\n",
       "5 1   rs11240777  35    1260   0.02778\n",
       "6 1   rs6681049  584    1260   0.46350"
      ]
     },
     "metadata": {},
     "output_type": "display_data"
    },
    {
     "name": "stderr",
     "output_type": "stream",
     "text": [
      "Warning message:\n",
      "“Removed 1766 rows containing non-finite values (stat_bin).”\n"
     ]
    },
    {
     "data": {
      "image/png": "[encoded data removed]",
      "text/plain": [
       "plot without title"
      ]
     },
     "metadata": {
      "image/png": {
       "height": 420,
       "width": 420
      }
     },
     "output_type": "display_data"
    }
   ],
   "source": [
    "lmiss <- read.table(\"eye_color_QC.lmiss\", header = T) ##CHANGE AXIS AND COLOR\n",
    "head(lmiss)\n",
    "lmiss %>%\n",
    "    ggplot(aes(x=F_MISS)) +\n",
    "    geom_histogram(bins=50,fill=\"dodgerblue\") + theme_minimal()"
   ]
  },
  {
   "cell_type": "markdown",
   "id": "conservative-workplace",
   "metadata": {},
   "source": [
    "Bash commands:  \n",
    "`plink --bfile eye_color_QC --geno 0.75 --hwe 0.00001 --maf 0.01 --make-bed --allow-no-sex --out eye_color_QC`"
   ]
  },
  {
   "cell_type": "markdown",
   "id": "alien-clause",
   "metadata": {},
   "source": [
    "## 2. Creating a binary phenotype"
   ]
  },
  {
   "cell_type": "code",
   "execution_count": 128,
   "id": "changed-conversation",
   "metadata": {},
   "outputs": [
    {
     "data": {
      "text/html": [
       "<table class=\"dataframe\">\n",
       "<caption>A data.frame: 6 × 6</caption>\n",
       "<thead>\n",
       "\t<tr><th></th><th scope=col>FID</th><th scope=col>IID</th><th scope=col>PAT</th><th scope=col>MAT</th><th scope=col>SEX</th><th scope=col>PHENO</th></tr>\n",
       "\t<tr><th></th><th scope=col>&lt;int&gt;</th><th scope=col>&lt;int&gt;</th><th scope=col>&lt;int&gt;</th><th scope=col>&lt;int&gt;</th><th scope=col>&lt;int&gt;</th><th scope=col>&lt;int&gt;</th></tr>\n",
       "</thead>\n",
       "<tbody>\n",
       "\t<tr><th scope=row>1</th><td>1010</td><td>1010</td><td>0</td><td>0</td><td>0</td><td>-9</td></tr>\n",
       "\t<tr><th scope=row>2</th><td>1013</td><td>1013</td><td>0</td><td>0</td><td>0</td><td>-9</td></tr>\n",
       "\t<tr><th scope=row>3</th><td>1020</td><td>1020</td><td>0</td><td>0</td><td>0</td><td>-9</td></tr>\n",
       "\t<tr><th scope=row>4</th><td>1022</td><td>1022</td><td>0</td><td>0</td><td>0</td><td>-9</td></tr>\n",
       "\t<tr><th scope=row>5</th><td>1024</td><td>1024</td><td>0</td><td>0</td><td>0</td><td>-9</td></tr>\n",
       "\t<tr><th scope=row>6</th><td>1026</td><td>1026</td><td>0</td><td>0</td><td>0</td><td>-9</td></tr>\n",
       "</tbody>\n",
       "</table>\n"
      ],
      "text/latex": [
       "A data.frame: 6 × 6\n",
       "\\begin{tabular}{r|llllll}\n",
       "  & FID & IID & PAT & MAT & SEX & PHENO\\\\\n",
       "  & <int> & <int> & <int> & <int> & <int> & <int>\\\\\n",
       "\\hline\n",
       "\t1 & 1010 & 1010 & 0 & 0 & 0 & -9\\\\\n",
       "\t2 & 1013 & 1013 & 0 & 0 & 0 & -9\\\\\n",
       "\t3 & 1020 & 1020 & 0 & 0 & 0 & -9\\\\\n",
       "\t4 & 1022 & 1022 & 0 & 0 & 0 & -9\\\\\n",
       "\t5 & 1024 & 1024 & 0 & 0 & 0 & -9\\\\\n",
       "\t6 & 1026 & 1026 & 0 & 0 & 0 & -9\\\\\n",
       "\\end{tabular}\n"
      ],
      "text/markdown": [
       "\n",
       "A data.frame: 6 × 6\n",
       "\n",
       "| <!--/--> | FID &lt;int&gt; | IID &lt;int&gt; | PAT &lt;int&gt; | MAT &lt;int&gt; | SEX &lt;int&gt; | PHENO &lt;int&gt; |\n",
       "|---|---|---|---|---|---|---|\n",
       "| 1 | 1010 | 1010 | 0 | 0 | 0 | -9 |\n",
       "| 2 | 1013 | 1013 | 0 | 0 | 0 | -9 |\n",
       "| 3 | 1020 | 1020 | 0 | 0 | 0 | -9 |\n",
       "| 4 | 1022 | 1022 | 0 | 0 | 0 | -9 |\n",
       "| 5 | 1024 | 1024 | 0 | 0 | 0 | -9 |\n",
       "| 6 | 1026 | 1026 | 0 | 0 | 0 | -9 |\n",
       "\n"
      ],
      "text/plain": [
       "  FID  IID  PAT MAT SEX PHENO\n",
       "1 1010 1010 0   0   0   -9   \n",
       "2 1013 1013 0   0   0   -9   \n",
       "3 1020 1020 0   0   0   -9   \n",
       "4 1022 1022 0   0   0   -9   \n",
       "5 1024 1024 0   0   0   -9   \n",
       "6 1026 1026 0   0   0   -9   "
      ]
     },
     "metadata": {},
     "output_type": "display_data"
    },
    {
     "data": {
      "text/html": [
       "<table class=\"dataframe\">\n",
       "<caption>A data.frame: 6 × 2</caption>\n",
       "<thead>\n",
       "\t<tr><th></th><th scope=col>FID</th><th scope=col>PHENO</th></tr>\n",
       "\t<tr><th></th><th scope=col>&lt;int&gt;</th><th scope=col>&lt;chr&gt;</th></tr>\n",
       "</thead>\n",
       "<tbody>\n",
       "\t<tr><th scope=row>1</th><td>1010</td><td>brown            </td></tr>\n",
       "\t<tr><th scope=row>2</th><td>1013</td><td>hazel/brown-green</td></tr>\n",
       "\t<tr><th scope=row>3</th><td>1020</td><td>blue             </td></tr>\n",
       "\t<tr><th scope=row>4</th><td>1022</td><td>blue-green       </td></tr>\n",
       "\t<tr><th scope=row>5</th><td>1024</td><td>blue             </td></tr>\n",
       "\t<tr><th scope=row>6</th><td>1026</td><td>hazel/brown-green</td></tr>\n",
       "</tbody>\n",
       "</table>\n"
      ],
      "text/latex": [
       "A data.frame: 6 × 2\n",
       "\\begin{tabular}{r|ll}\n",
       "  & FID & PHENO\\\\\n",
       "  & <int> & <chr>\\\\\n",
       "\\hline\n",
       "\t1 & 1010 & brown            \\\\\n",
       "\t2 & 1013 & hazel/brown-green\\\\\n",
       "\t3 & 1020 & blue             \\\\\n",
       "\t4 & 1022 & blue-green       \\\\\n",
       "\t5 & 1024 & blue             \\\\\n",
       "\t6 & 1026 & hazel/brown-green\\\\\n",
       "\\end{tabular}\n"
      ],
      "text/markdown": [
       "\n",
       "A data.frame: 6 × 2\n",
       "\n",
       "| <!--/--> | FID &lt;int&gt; | PHENO &lt;chr&gt; |\n",
       "|---|---|---|\n",
       "| 1 | 1010 | brown             |\n",
       "| 2 | 1013 | hazel/brown-green |\n",
       "| 3 | 1020 | blue              |\n",
       "| 4 | 1022 | blue-green        |\n",
       "| 5 | 1024 | blue              |\n",
       "| 6 | 1026 | hazel/brown-green |\n",
       "\n"
      ],
      "text/plain": [
       "  FID  PHENO            \n",
       "1 1010 brown            \n",
       "2 1013 hazel/brown-green\n",
       "3 1020 blue             \n",
       "4 1022 blue-green       \n",
       "5 1024 blue             \n",
       "6 1026 hazel/brown-green"
      ]
     },
     "metadata": {},
     "output_type": "display_data"
    }
   ],
   "source": [
    "eyecolor_qc <- read.table(\"eye_color_QC.fam\")\n",
    "colnames(eyecolor_qc) <- c(\"FID\",\"IID\",\"PAT\",\"MAT\",\"SEX\",\"PHENO\")\n",
    "head(eyecolor_qc)\n",
    "phenotype <- read.table(\"eye_color.txt\") \n",
    "colnames(phenotype) <- c(\"FID\", \"PHENO\")\n",
    "head(phenotype)"
   ]
  },
  {
   "cell_type": "code",
   "execution_count": 129,
   "id": "foster-charles",
   "metadata": {},
   "outputs": [
    {
     "data": {
      "image/png": "[encoded data removed]",
      "text/plain": [
       "plot without title"
      ]
     },
     "metadata": {
      "image/png": {
       "height": 420,
       "width": 420
      }
     },
     "output_type": "display_data"
    }
   ],
   "source": [
    "ggplot(phenotype) +\n",
    "    geom_bar(aes(x = PHENO, fill = PHENO)) +\n",
    "    theme_minimal() +\n",
    "    theme(axis.text.x = element_text(angle = 90, vjust = 0.5, hjust=1),\n",
    "          legend.position = \"none\") +\n",
    "    xlab(\"Eyecolor Phenotype\") + ylab(\"Count\") +\n",
    "    scale_fill_manual(values=c(\"chocolate\", \"dodgerblue3\", \"cyan4\", \"aquamarine4\", \"cadetblue4\", \"lightskyblue3\", \"saddlebrown\", \"darkblue\", \"chocolate4\", \"springgreen4\", \"darkseagreen4\", \"goldenrod4\"))"
   ]
  },
  {
   "cell_type": "code",
   "execution_count": 130,
   "id": "honey-filling",
   "metadata": {},
   "outputs": [
    {
     "data": {
      "text/html": [
       "<table class=\"dataframe\">\n",
       "<caption>A data.frame: 6 × 2</caption>\n",
       "<thead>\n",
       "\t<tr><th></th><th scope=col>FID</th><th scope=col>PHENO</th></tr>\n",
       "\t<tr><th></th><th scope=col>&lt;int&gt;</th><th scope=col>&lt;chr&gt;</th></tr>\n",
       "</thead>\n",
       "<tbody>\n",
       "\t<tr><th scope=row>1</th><td>1010</td><td>1</td></tr>\n",
       "\t<tr><th scope=row>2</th><td>1013</td><td>1</td></tr>\n",
       "\t<tr><th scope=row>3</th><td>1020</td><td>2</td></tr>\n",
       "\t<tr><th scope=row>4</th><td>1022</td><td>2</td></tr>\n",
       "\t<tr><th scope=row>5</th><td>1024</td><td>2</td></tr>\n",
       "\t<tr><th scope=row>6</th><td>1026</td><td>1</td></tr>\n",
       "</tbody>\n",
       "</table>\n"
      ],
      "text/latex": [
       "A data.frame: 6 × 2\n",
       "\\begin{tabular}{r|ll}\n",
       "  & FID & PHENO\\\\\n",
       "  & <int> & <chr>\\\\\n",
       "\\hline\n",
       "\t1 & 1010 & 1\\\\\n",
       "\t2 & 1013 & 1\\\\\n",
       "\t3 & 1020 & 2\\\\\n",
       "\t4 & 1022 & 2\\\\\n",
       "\t5 & 1024 & 2\\\\\n",
       "\t6 & 1026 & 1\\\\\n",
       "\\end{tabular}\n"
      ],
      "text/markdown": [
       "\n",
       "A data.frame: 6 × 2\n",
       "\n",
       "| <!--/--> | FID &lt;int&gt; | PHENO &lt;chr&gt; |\n",
       "|---|---|---|\n",
       "| 1 | 1010 | 1 |\n",
       "| 2 | 1013 | 1 |\n",
       "| 3 | 1020 | 2 |\n",
       "| 4 | 1022 | 2 |\n",
       "| 5 | 1024 | 2 |\n",
       "| 6 | 1026 | 1 |\n",
       "\n"
      ],
      "text/plain": [
       "  FID  PHENO\n",
       "1 1010 1    \n",
       "2 1013 1    \n",
       "3 1020 2    \n",
       "4 1022 2    \n",
       "5 1024 2    \n",
       "6 1026 1    "
      ]
     },
     "metadata": {},
     "output_type": "display_data"
    }
   ],
   "source": [
    "phenotype$PHENO <- ifelse(grepl(\"brown\", phenotype$PHENO),'1','2') #1 is all phenotypes containing the word brown, 2 is the leftover phenotypes (green, blue, gray)\n",
    "phenotype %>% head()\n",
    "phenotype %>% write.table(file = \"binary_phenotypes.txt\", sep = \"\\t\", row.names = FALSE, col.names = FALSE)\n"
   ]
  },
  {
   "cell_type": "code",
   "execution_count": 135,
   "id": "physical-retention",
   "metadata": {},
   "outputs": [
    {
     "data": {
      "text/html": [
       "<style>\n",
       ".list-inline {list-style: none; margin:0; padding: 0}\n",
       ".list-inline>li {display: inline-block}\n",
       ".list-inline>li:not(:last-child)::after {content: \"\\00b7\"; padding: 0 .5ex}\n",
       "</style>\n",
       "<ol class=list-inline><li>1260</li><li>6</li></ol>\n"
      ],
      "text/latex": [
       "\\begin{enumerate*}\n",
       "\\item 1260\n",
       "\\item 6\n",
       "\\end{enumerate*}\n"
      ],
      "text/markdown": [
       "1. 1260\n",
       "2. 6\n",
       "\n",
       "\n"
      ],
      "text/plain": [
       "[1] 1260    6"
      ]
     },
     "metadata": {},
     "output_type": "display_data"
    },
    {
     "data": {
      "text/html": [
       "<table class=\"dataframe\">\n",
       "<caption>A data.frame: 6 × 6</caption>\n",
       "<thead>\n",
       "\t<tr><th></th><th scope=col>FID</th><th scope=col>IID</th><th scope=col>PAT</th><th scope=col>MAT</th><th scope=col>SEX</th><th scope=col>PHENO</th></tr>\n",
       "\t<tr><th></th><th scope=col>&lt;int&gt;</th><th scope=col>&lt;int&gt;</th><th scope=col>&lt;int&gt;</th><th scope=col>&lt;int&gt;</th><th scope=col>&lt;int&gt;</th><th scope=col>&lt;chr&gt;</th></tr>\n",
       "</thead>\n",
       "<tbody>\n",
       "\t<tr><th scope=row>1</th><td>1010</td><td>1010</td><td>0</td><td>0</td><td>0</td><td>1</td></tr>\n",
       "\t<tr><th scope=row>2</th><td>1013</td><td>1013</td><td>0</td><td>0</td><td>0</td><td>1</td></tr>\n",
       "\t<tr><th scope=row>3</th><td>1020</td><td>1020</td><td>0</td><td>0</td><td>0</td><td>2</td></tr>\n",
       "\t<tr><th scope=row>4</th><td>1022</td><td>1022</td><td>0</td><td>0</td><td>0</td><td>2</td></tr>\n",
       "\t<tr><th scope=row>5</th><td>1024</td><td>1024</td><td>0</td><td>0</td><td>0</td><td>2</td></tr>\n",
       "\t<tr><th scope=row>6</th><td>1026</td><td>1026</td><td>0</td><td>0</td><td>0</td><td>1</td></tr>\n",
       "</tbody>\n",
       "</table>\n"
      ],
      "text/latex": [
       "A data.frame: 6 × 6\n",
       "\\begin{tabular}{r|llllll}\n",
       "  & FID & IID & PAT & MAT & SEX & PHENO\\\\\n",
       "  & <int> & <int> & <int> & <int> & <int> & <chr>\\\\\n",
       "\\hline\n",
       "\t1 & 1010 & 1010 & 0 & 0 & 0 & 1\\\\\n",
       "\t2 & 1013 & 1013 & 0 & 0 & 0 & 1\\\\\n",
       "\t3 & 1020 & 1020 & 0 & 0 & 0 & 2\\\\\n",
       "\t4 & 1022 & 1022 & 0 & 0 & 0 & 2\\\\\n",
       "\t5 & 1024 & 1024 & 0 & 0 & 0 & 2\\\\\n",
       "\t6 & 1026 & 1026 & 0 & 0 & 0 & 1\\\\\n",
       "\\end{tabular}\n"
      ],
      "text/markdown": [
       "\n",
       "A data.frame: 6 × 6\n",
       "\n",
       "| <!--/--> | FID &lt;int&gt; | IID &lt;int&gt; | PAT &lt;int&gt; | MAT &lt;int&gt; | SEX &lt;int&gt; | PHENO &lt;chr&gt; |\n",
       "|---|---|---|---|---|---|---|\n",
       "| 1 | 1010 | 1010 | 0 | 0 | 0 | 1 |\n",
       "| 2 | 1013 | 1013 | 0 | 0 | 0 | 1 |\n",
       "| 3 | 1020 | 1020 | 0 | 0 | 0 | 2 |\n",
       "| 4 | 1022 | 1022 | 0 | 0 | 0 | 2 |\n",
       "| 5 | 1024 | 1024 | 0 | 0 | 0 | 2 |\n",
       "| 6 | 1026 | 1026 | 0 | 0 | 0 | 1 |\n",
       "\n"
      ],
      "text/plain": [
       "  FID  IID  PAT MAT SEX PHENO\n",
       "1 1010 1010 0   0   0   1    \n",
       "2 1013 1013 0   0   0   1    \n",
       "3 1020 1020 0   0   0   2    \n",
       "4 1022 1022 0   0   0   2    \n",
       "5 1024 1024 0   0   0   2    \n",
       "6 1026 1026 0   0   0   1    "
      ]
     },
     "metadata": {},
     "output_type": "display_data"
    },
    {
     "data": {
      "text/html": [
       "<table class=\"dataframe\">\n",
       "<caption>A tibble: 2 × 2</caption>\n",
       "<thead>\n",
       "\t<tr><th></th><th scope=col>PHENO</th><th scope=col>count</th></tr>\n",
       "\t<tr><th></th><th scope=col>&lt;chr&gt;</th><th scope=col>&lt;int&gt;</th></tr>\n",
       "</thead>\n",
       "<tbody>\n",
       "\t<tr><th scope=row>1</th><td>1</td><td>646</td></tr>\n",
       "\t<tr><th scope=row>2</th><td>2</td><td>614</td></tr>\n",
       "</tbody>\n",
       "</table>\n"
      ],
      "text/latex": [
       "A tibble: 2 × 2\n",
       "\\begin{tabular}{r|ll}\n",
       "  & PHENO & count\\\\\n",
       "  & <chr> & <int>\\\\\n",
       "\\hline\n",
       "\t1 & 1 & 646\\\\\n",
       "\t2 & 2 & 614\\\\\n",
       "\\end{tabular}\n"
      ],
      "text/markdown": [
       "\n",
       "A tibble: 2 × 2\n",
       "\n",
       "| <!--/--> | PHENO &lt;chr&gt; | count &lt;int&gt; |\n",
       "|---|---|---|\n",
       "| 1 | 1 | 646 |\n",
       "| 2 | 2 | 614 |\n",
       "\n"
      ],
      "text/plain": [
       "  PHENO count\n",
       "1 1     646  \n",
       "2 2     614  "
      ]
     },
     "metadata": {},
     "output_type": "display_data"
    }
   ],
   "source": [
    "eyecolor_qc$PHENO <- phenotype$PHENO[match(eyecolor_qc$FID, phenotype$FID)]\n",
    "dim(eyecolor_qc)\n",
    "head(eyecolor_qc)\n",
    "eyecolor_qc %>% group_by(PHENO) %>% summarise(count = n())"
   ]
  }
 ],
 "metadata": {
  "kernelspec": {
   "display_name": "R",
   "language": "R",
   "name": "ir"
  },
  "language_info": {
   "codemirror_mode": "r",
   "file_extension": ".r",
   "mimetype": "text/x-r-source",
   "name": "R",
   "pygments_lexer": "r",
   "version": "4.0.3"
  }
 },
 "nbformat": 4,
 "nbformat_minor": 5
}
